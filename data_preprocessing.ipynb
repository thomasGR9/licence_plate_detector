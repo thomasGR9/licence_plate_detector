version https://git-lfs.github.com/spec/v1
oid sha256:33744fca1cdacdca1c85222fcd224bb09d66b7a586c9651e3b73fd6b322bd223
size 107508287
