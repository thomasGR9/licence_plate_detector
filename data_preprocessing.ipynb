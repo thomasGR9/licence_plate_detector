version https://git-lfs.github.com/spec/v1
oid sha256:2f19cb774245280760e868fdd9c1b12ba2233417fcb0caf7560f4fb6b20f8f10
size 106280114
